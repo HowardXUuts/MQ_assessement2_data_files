{
 "cells": [
  {
   "cell_type": "markdown",
   "metadata": {
    "colab_type": "text",
    "id": "tZWdaaO0MQ03"
   },
   "source": [
    "A code stub for accessing the language dataset:\n"
   ]
  },
  {
   "cell_type": "code",
   "execution_count": 4,
   "metadata": {
    "colab": {
     "base_uri": "https://localhost:8080/",
     "height": 423
    },
    "colab_type": "code",
    "executionInfo": {
     "elapsed": 752,
     "status": "ok",
     "timestamp": 1585289257494,
     "user": {
      "displayName": "Mark Dras",
      "photoUrl": "",
      "userId": "03500499357751624782"
     },
     "user_tz": -660
    },
    "id": "OPook2sMMSMT",
    "outputId": "5ef28d48-a404-4e62-a403-d8402a661d91"
   },
   "outputs": [
    {
     "ename": "ModuleNotFoundError",
     "evalue": "No module named 'google.colab'",
     "output_type": "error",
     "traceback": [
      "\u001b[0;31m---------------------------------------------------------------------------\u001b[0m",
      "\u001b[0;31mModuleNotFoundError\u001b[0m                       Traceback (most recent call last)",
      "\u001b[0;32m<ipython-input-4-4df03961b1fb>\u001b[0m in \u001b[0;36m<module>\u001b[0;34m\u001b[0m\n\u001b[1;32m      2\u001b[0m \u001b[0;32mimport\u001b[0m \u001b[0mnumpy\u001b[0m \u001b[0;32mas\u001b[0m \u001b[0mnp\u001b[0m\u001b[0;34m\u001b[0m\u001b[0;34m\u001b[0m\u001b[0m\n\u001b[1;32m      3\u001b[0m \u001b[0;32mfrom\u001b[0m \u001b[0mos\u001b[0m\u001b[0;34m.\u001b[0m\u001b[0mpath\u001b[0m \u001b[0;32mimport\u001b[0m \u001b[0mjoin\u001b[0m\u001b[0;34m\u001b[0m\u001b[0;34m\u001b[0m\u001b[0m\n\u001b[0;32m----> 4\u001b[0;31m \u001b[0;32mfrom\u001b[0m \u001b[0mgoogle\u001b[0m\u001b[0;34m.\u001b[0m\u001b[0mcolab\u001b[0m \u001b[0;32mimport\u001b[0m \u001b[0mdrive\u001b[0m\u001b[0;34m\u001b[0m\u001b[0;34m\u001b[0m\u001b[0m\n\u001b[0m\u001b[1;32m      5\u001b[0m \u001b[0;32mimport\u001b[0m \u001b[0mpickle\u001b[0m\u001b[0;34m\u001b[0m\u001b[0;34m\u001b[0m\u001b[0m\n\u001b[1;32m      6\u001b[0m \u001b[0;34m\u001b[0m\u001b[0m\n",
      "\u001b[0;31mModuleNotFoundError\u001b[0m: No module named 'google.colab'"
     ]
    }
   ],
   "source": [
    "!pip install -U -q PyDrive\n",
    "import numpy as np\n",
    "from os.path import join\n",
    "from google.colab import drive\n",
    "import pickle\n",
    "\n",
    "drive.mount('/content/drive/')\n",
    "\n",
    "def load_pickle(path):\n",
    "    with open(path, 'rb') as f:\n",
    "        file = pickle.load(f)\n",
    "        print ('Loaded %s..' %path)\n",
    "        return file\n",
    "\n",
    "dataset_directory = '/content/drive/My Drive/20comp8220/proj/text_dataset/'  ## CHANGE TO YOUR OWN DIRECTORY\n",
    "\n",
    "emotions = ['anger', 'fear', 'joy', 'sadness']\n",
    "\n",
    "tweets_train = np.load(join(dataset_directory, 'text_train_tweets.npy'))\n",
    "labels_train = np.load(join(dataset_directory, 'text_train_labels.npy'))\n",
    "vocabulary = load_pickle(join(dataset_directory, 'text_word_to_idx.pkl'))\n",
    "\n",
    "tweets_val = np.load(join(dataset_directory, 'text_val_tweets.npy'))\n",
    "labels_val = np.load(join(dataset_directory, 'text_val_labels.npy'))\n",
    "\n",
    "tweets_test_public = np.load(join(dataset_directory, 'text_test_public_tweets_rand.npy'))\n",
    "\n",
    "print(len(vocabulary))\n",
    "idx_to_word = {i: w for w, i in vocabulary.items()}\n",
    "for i in range(7):\n",
    "  print(i, idx_to_word[i])\n",
    "\n",
    "sample = 1  ## YOU CAN TRY OUT OTHER TWEETS\n",
    "\n",
    "print('sample tweet, stored form:')\n",
    "print(tweets_train[sample])\n",
    "print(labels_train[sample])\n",
    "\n",
    "print('sample tweet, readable form:')\n",
    "decode = []\n",
    "for i in range(50):\n",
    "  decode.append(idx_to_word[tweets_train[sample][i]])\n",
    "print(decode)\n",
    "print(emotions[labels_train[sample]])\n",
    "\n",
    "\n",
    "print(tweets_train.shape)\n",
    "print(labels_train.shape)\n",
    "print(tweets_val.shape)\n",
    "print(labels_val.shape)\n",
    "print(tweets_test_public.shape)\n",
    "\n",
    "\n"
   ]
  },
  {
   "cell_type": "code",
   "execution_count": null,
   "metadata": {},
   "outputs": [],
   "source": []
  },
  {
   "cell_type": "code",
   "execution_count": null,
   "metadata": {},
   "outputs": [],
   "source": []
  },
  {
   "cell_type": "code",
   "execution_count": null,
   "metadata": {},
   "outputs": [],
   "source": []
  }
 ],
 "metadata": {
  "colab": {
   "collapsed_sections": [],
   "name": "text_code_stub.ipynb",
   "provenance": [],
   "toc_visible": true
  },
  "kernelspec": {
   "display_name": "Python 3",
   "language": "python",
   "name": "python3"
  },
  "language_info": {
   "codemirror_mode": {
    "name": "ipython",
    "version": 3
   },
   "file_extension": ".py",
   "mimetype": "text/x-python",
   "name": "python",
   "nbconvert_exporter": "python",
   "pygments_lexer": "ipython3",
   "version": "3.7.3"
  }
 },
 "nbformat": 4,
 "nbformat_minor": 1
}
